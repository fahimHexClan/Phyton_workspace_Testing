{
 "cells": [
  {
   "cell_type": "code",
   "execution_count": 1,
   "metadata": {},
   "outputs": [
    {
     "name": "stdout",
     "output_type": "stream",
     "text": [
      "Running\n"
     ]
    }
   ],
   "source": [
    "print(\"Running\")"
   ]
  },
  {
   "cell_type": "code",
   "execution_count": null,
   "metadata": {},
   "outputs": [
    {
     "name": "stdout",
     "output_type": "stream",
     "text": [
      "<class 'float'>\n",
      "<class 'int'>\n",
      "<class 'complex'>\n",
      "False\n",
      "<class 'type'>\n",
      "<class 'int'>\n",
      "<class 'float'>\n"
     ]
    }
   ],
   "source": [
    "#numeric\n",
    "\n",
    "num=1.5\n",
    "print(type(num))#float\n",
    "\n",
    "num=1\n",
    "print(type(num))#int\n",
    "\n",
    "num=1-10j\n",
    "print(type(num))#complex\n",
    "\n",
    "num=10\n",
    "x=5\n",
    "print(num<x)#bool\n",
    "print(type(bool))\n",
    "\n",
    "num=5.6\n",
    "b=int(num)#typecasting\n",
    "print(type(b))#integer\n",
    "print(type(num))#float\n",
    "\n"
   ]
  },
  {
   "cell_type": "code",
   "execution_count": 30,
   "metadata": {},
   "outputs": [
    {
     "name": "stdout",
     "output_type": "stream",
     "text": [
      " ====================================List=======================================\n",
      "<class 'list'>\n",
      "\n",
      "=====================================tuple========================================\n",
      "<class 'tuple'>\n",
      "\n",
      "======================================range=====================================\n",
      "[0, 5, 10, 15, 20, 25, 30, 35, 40, 45]\n",
      "<class 'range'>\n",
      "10\n",
      "\n",
      "======================================dictionaory=====================================\n",
      "{'name': 'Sana', 'age': '12', 'adrees': 'badulla'}\n"
     ]
    }
   ],
   "source": [
    "print(\" ====================================List=======================================\")\n",
    "\n",
    "# List\n",
    "lst =[12,32,64,128,]#patan ganne [],list is a collection which is order and chagebale, allow duplicate members\n",
    "print(type(lst))\n",
    "print()\n",
    "\n",
    "\n",
    "\n",
    "print(\"=====================================tuple========================================\")\n",
    "#tuple\n",
    "tup=(10,20,33,3,4,5,6,7,8,)#patan ganne (),list is a collection which is order and unchagebale, allow duplicate members\n",
    "print(type(tup))\n",
    "print()\n",
    "\n",
    "\n",
    "\n",
    "print(\"======================================range=====================================\")\n",
    "#range\n",
    "my_range=range(0,50,5)#range ekak 0 idala 50 thula print wenna ona 5 +5 range eke  \n",
    "print(list(my_range))# list eka dala itapasse thama print karanna ona\n",
    "print(type(my_range))\n",
    "item=my_range[2]\n",
    "print(item)\n",
    "print()\n",
    "\n",
    "\n",
    "print(\"======================================dictionaory=====================================\")\n",
    "#dictionary\n",
    "dic={\"name\" : \"Sana\",\"age\":\"12\",\"adrees\":\"badulla\"}\n",
    "print(dic)\n",
    "\n",
    "\n",
    "\n",
    "\n",
    "\n",
    "\n",
    "\n"
   ]
  },
  {
   "cell_type": "code",
   "execution_count": 34,
   "metadata": {},
   "outputs": [
    {
     "name": "stdout",
     "output_type": "stream",
     "text": [
      "6\n",
      "7\n",
      "6 [-3]\n",
      "[1, 3, 4, 5, 6, 7]\n"
     ]
    }
   ],
   "source": [
    "list2=[1,3,4,5,6,7]\n",
    "print(list2[-2])#lis\n",
    "print(list2[-1])\n",
    "print(list2[-2],[-3])\n",
    "print(list2)\n"
   ]
  },
  {
   "cell_type": "code",
   "execution_count": null,
   "metadata": {},
   "outputs": [
    {
     "name": "stdout",
     "output_type": "stream",
     "text": [
      "['cat', 'Dog', 'Buffalow']\n",
      "['dog', 'cat']\n",
      "['dog', 'cat', 'Dog', 'Buffalow']\n",
      "['Buffalow', 'Parrot']\n"
     ]
    }
   ],
   "source": [
    "list3=[\"dog\",\"cat\",\"Dog\",\"Buffalow\",\"Parrot\"]\n",
    "print(list3[1:4]) #this set  range  /1 index strt 3rd index finish\n",
    "print(list3[0:2])\n",
    "print(list3[:4])\n",
    "print(list3[3:])\n"
   ]
  },
  {
   "cell_type": "code",
   "execution_count": null,
   "metadata": {},
   "outputs": [
    {
     "name": "stdout",
     "output_type": "stream",
     "text": [
      "5\n"
     ]
    }
   ],
   "source": [
    "mylist=[33,3,2,2,\"cat\"]\n",
    "print(len(mylist))                            #lenth eka hoyaganna"
   ]
  },
  {
   "cell_type": "code",
   "execution_count": null,
   "metadata": {},
   "outputs": [
    {
     "name": "stdout",
     "output_type": "stream",
     "text": [
      "['dog', 'Zebra', 'cat', 'elephant', 'Fish']\n"
     ]
    }
   ],
   "source": [
    "#insert\n",
    "listA=[\"dog\",\"cat\",\"elephant\",\"Fish\"]\n",
    "listA.insert(1,\"Zebra\")                      #1 liyanne index after a index eke add wenna ona value eka\n",
    "print(listA)"
   ]
  },
  {
   "cell_type": "code",
   "execution_count": null,
   "metadata": {},
   "outputs": [
    {
     "name": "stdout",
     "output_type": "stream",
     "text": [
      "['dog', 'cat', 'elephant', 'Fish', 'Monkey']\n"
     ]
    }
   ],
   "source": [
    "#append\n",
    "listB=[\"dog\",\"cat\",\"elephant\",\"Fish\"]\n",
    "listB.append(\"Monkey\")                         #append use karama eya last index eke value add wenawa\n",
    "print(listB)\n"
   ]
  },
  {
   "cell_type": "code",
   "execution_count": null,
   "metadata": {},
   "outputs": [
    {
     "name": "stdout",
     "output_type": "stream",
     "text": [
      "['dog', 'cat', 'elephant', 'Fish', 'Appale', 'Watermelon', 'Mango']\n",
      "['Appale', 'Watermelon', 'Mango']\n"
     ]
    }
   ],
   "source": [
    "#extend\n",
    "listB=[\"dog\",\"cat\",\"elephant\",\"Fish\"]\n",
    "ListC=[\"Appale\",\"Watermelon\",\"Mango\"]\n",
    "listB.extend(ListC)               #extend eken wenne  eka list eke idala tawa ekata data danna  /methamna wenne list C eke thiyana eka list B ekata add wenawa \n",
    "\n",
    "print(listB)\n",
    "print(ListC)"
   ]
  },
  {
   "cell_type": "code",
   "execution_count": null,
   "metadata": {},
   "outputs": [
    {
     "name": "stdout",
     "output_type": "stream",
     "text": [
      "['cat', 'elephant', 'Fish']\n"
     ]
    }
   ],
   "source": [
    "#remove\n",
    "list1=[\"dog\",\"cat\",\"elephant\",\"Fish\"]\n",
    "list1.remove(\"dog\")#valu eken remove karanawa\n",
    "print(list1)\n",
    "       "
   ]
  },
  {
   "cell_type": "code",
   "execution_count": 70,
   "metadata": {},
   "outputs": [
    {
     "name": "stdout",
     "output_type": "stream",
     "text": [
      "666\n"
     ]
    }
   ],
   "source": [
    "print(\"6\"*3)#string nisa meya 3prk print wenawa "
   ]
  },
  {
   "cell_type": "code",
   "execution_count": null,
   "metadata": {},
   "outputs": [
    {
     "name": "stdout",
     "output_type": "stream",
     "text": [
      "['dog', 'elephant', 'Fish']\n"
     ]
    }
   ],
   "source": [
    "#pop \n",
    "list1=[\"dog\",\"cat\",\"elephant\",\"Fish\"]\n",
    "list1.pop(1)                         # index eken remove karanawa\n",
    "print(list1)"
   ]
  },
  {
   "cell_type": "code",
   "execution_count": null,
   "metadata": {},
   "outputs": [
    {
     "name": "stdout",
     "output_type": "stream",
     "text": [
      "[]\n"
     ]
    }
   ],
   "source": [
    "#clear\n",
    "list3=[\"dog\",\"cat\",\"elephant\",\"Fish\"]\n",
    "list3.clear()                        #CLEAR WENAWA  full list ekama \n",
    "print(list3)\n"
   ]
  },
  {
   "cell_type": "code",
   "execution_count": null,
   "metadata": {},
   "outputs": [
    {
     "name": "stdout",
     "output_type": "stream",
     "text": [
      "['Fish', 'cat', 'dog', 'elephant']\n"
     ]
    }
   ],
   "source": [
    "#sort()\n",
    "list3=[\"dog\",\"cat\",\"elephant\",\"Fish\"]\n",
    "list3.sort()                    #isselama capital latters alphbat order print wela itapasse simple order print wenawa\n",
    "print(list3)"
   ]
  },
  {
   "cell_type": "code",
   "execution_count": null,
   "metadata": {},
   "outputs": [
    {
     "name": "stdout",
     "output_type": "stream",
     "text": [
      "['elephant', 'dog', 'cat', 'Fish']\n"
     ]
    }
   ],
   "source": [
    "#sort(reverse=True)\n",
    "list3=[\"dog\",\"cat\",\"elephant\",\"Fish\"]\n",
    "list3.sort(reverse=True)          #alpahbat order eke capital after simple reverce print wenawa\n",
    "print(list3)"
   ]
  },
  {
   "cell_type": "code",
   "execution_count": 79,
   "metadata": {},
   "outputs": [
    {
     "name": "stdout",
     "output_type": "stream",
     "text": [
      "[1, 2, 22, 33, 33, 44, 88]\n"
     ]
    }
   ],
   "source": [
    "list=[1,2,33,44,33,22,88]\n",
    "list.sort()\n",
    "print(list)"
   ]
  },
  {
   "cell_type": "code",
   "execution_count": 80,
   "metadata": {},
   "outputs": [
    {
     "name": "stdout",
     "output_type": "stream",
     "text": [
      "[88, 44, 33, 33, 22, 2, 1]\n"
     ]
    }
   ],
   "source": [
    "list=[1,2,33,44,33,22,88]\n",
    "list.sort(reverse=True)\n",
    "print(list)"
   ]
  },
  {
   "cell_type": "code",
   "execution_count": null,
   "metadata": {},
   "outputs": [
    {
     "name": "stdout",
     "output_type": "stream",
     "text": [
      "['Cat', 'dog', 'elephant', 'Fish']\n"
     ]
    }
   ],
   "source": [
    "list=[\"dog\",\"Cat\",\"elephant\",\"Fish\"]\n",
    "list.sort(key=str.lower)     #alphabat order ekata print wenawa uppercase,lower case ballanne na\n",
    "print(list)"
   ]
  },
  {
   "cell_type": "code",
   "execution_count": null,
   "metadata": {},
   "outputs": [
    {
     "name": "stdout",
     "output_type": "stream",
     "text": [
      "[1, 2, 33, 44, 33, 22, 88]\n"
     ]
    }
   ],
   "source": [
    "#list ekek thawa ekata copy karanna\n",
    "list=[1,2,33,44,33,22,88]\n",
    "listB=list\n",
    "print(listB)"
   ]
  },
  {
   "cell_type": "code",
   "execution_count": 85,
   "metadata": {},
   "outputs": [
    {
     "name": "stdout",
     "output_type": "stream",
     "text": [
      "[1, 2, 3, 2, 3, 4]\n"
     ]
    }
   ],
   "source": [
    "#join two list\n",
    "list=[1,2,3]\n",
    "list2=[2,3,4]\n",
    "list3=list+list2\n",
    "print(list3)"
   ]
  },
  {
   "cell_type": "code",
   "execution_count": null,
   "metadata": {},
   "outputs": [],
   "source": []
  }
 ],
 "metadata": {
  "kernelspec": {
   "display_name": "Python 3",
   "language": "python",
   "name": "python3"
  },
  "language_info": {
   "codemirror_mode": {
    "name": "ipython",
    "version": 3
   },
   "file_extension": ".py",
   "mimetype": "text/x-python",
   "name": "python",
   "nbconvert_exporter": "python",
   "pygments_lexer": "ipython3",
   "version": "3.13.0"
  }
 },
 "nbformat": 4,
 "nbformat_minor": 2
}
